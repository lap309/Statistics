{
 "cells": [
  {
   "cell_type": "markdown",
   "id": "cc7a2aff",
   "metadata": {},
   "source": [
    "# Prophet in R"
   ]
  },
  {
   "cell_type": "markdown",
   "id": "5997e004",
   "metadata": {},
   "source": [
    "In R, we use the normal model fitting API. We provide a prophet function that performs fitting and returns a model object. You can then call predict and plot on this model object."
   ]
  },
  {
   "cell_type": "code",
   "execution_count": null,
   "id": "4243770a",
   "metadata": {},
   "outputs": [],
   "source": [
    "# R\n",
    "library(prophet)"
   ]
  },
  {
   "cell_type": "code",
   "execution_count": null,
   "id": "f5030fac",
   "metadata": {},
   "outputs": [],
   "source": [
    "# R\n",
    "df <- read.csv('https://raw.githubusercontent.com/facebook/prophet/main/examples/example_wp_log_R.csv')"
   ]
  },
  {
   "cell_type": "code",
   "execution_count": null,
   "id": "82f7d220",
   "metadata": {},
   "outputs": [],
   "source": [
    "R[write to console]: Loading required package: Rcpp\n",
    "\n",
    "R[write to console]: Loading required package: rlang"
   ]
  },
  {
   "cell_type": "markdown",
   "id": "29cbb1f4",
   "metadata": {},
   "source": [
    "First we read in the data and create the outcome variable. As in the Python API, this is a dataframe with columns ds and y, containing the date and numeric value respectively. The ds column should be YYYY-MM-DD for a date, or YYYY-MM-DD HH:MM:SS for a timestamp. As above, we use here the log number of views to Peyton Manning’s Wikipedia page, available here."
   ]
  },
  {
   "cell_type": "code",
   "execution_count": null,
   "id": "496f2684",
   "metadata": {},
   "outputs": [],
   "source": [
    "# R\n",
    "df <- read.csv('https://raw.githubusercontent.com/facebook/prophet/main/examples/example_wp_log_peyton_manning.csv')\n"
   ]
  },
  {
   "cell_type": "markdown",
   "id": "b2703350",
   "metadata": {},
   "source": [
    "We call the prophet function to fit the model. The first argument is the historical dataframe. Additional arguments control how Prophet fits the data and are described in later pages of this documentation."
   ]
  },
  {
   "cell_type": "code",
   "execution_count": null,
   "id": "5d55fa24",
   "metadata": {},
   "outputs": [],
   "source": [
    "# R\n",
    "m <- prophet(df)\n"
   ]
  },
  {
   "cell_type": "markdown",
   "id": "c62df63f",
   "metadata": {},
   "source": [
    "Predictions are made on a dataframe with a column ds containing the dates for which predictions are to be made. The make_future_dataframe function takes the model object and a number of periods to forecast and produces a suitable dataframe. By default it will also include the historical dates so we can evaluate in-sample fit."
   ]
  },
  {
   "cell_type": "code",
   "execution_count": null,
   "id": "ca25ee13",
   "metadata": {},
   "outputs": [],
   "source": [
    "# R\n",
    "future <- make_future_dataframe(m, periods = 365)\n",
    "tail(future)"
   ]
  },
  {
   "cell_type": "markdown",
   "id": "50d9536f",
   "metadata": {},
   "source": [
    "As with most modeling procedures in R, we use the generic predict function to get our forecast. The forecast object is a dataframe with a column yhat containing the forecast. It has additional columns for uncertainty intervals and seasonal components."
   ]
  },
  {
   "cell_type": "code",
   "execution_count": null,
   "id": "5f28119f",
   "metadata": {},
   "outputs": [],
   "source": [
    "# R\n",
    "forecast <- predict(m, future)\n",
    "tail(forecast[c('ds', 'yhat', 'yhat_lower', 'yhat_upper')])"
   ]
  },
  {
   "cell_type": "markdown",
   "id": "3090ba15",
   "metadata": {},
   "source": [
    "You can use the generic plot function to plot the forecast, by passing in the model and the forecast dataframe."
   ]
  },
  {
   "cell_type": "code",
   "execution_count": null,
   "id": "a28ad75c",
   "metadata": {},
   "outputs": [],
   "source": [
    "# R\n",
    "plot(m, forecast)\n"
   ]
  },
  {
   "cell_type": "markdown",
   "id": "a0ce35c4",
   "metadata": {},
   "source": [
    "You can use the prophet_plot_components function to see the forecast broken down into trend, weekly seasonality, and yearly seasonality.`"
   ]
  },
  {
   "cell_type": "code",
   "execution_count": null,
   "id": "6624e0ac",
   "metadata": {},
   "outputs": [],
   "source": [
    "# R\n",
    "prophet_plot_components(m, forecast)"
   ]
  },
  {
   "cell_type": "markdown",
   "id": "e2e2e849",
   "metadata": {},
   "source": [
    "An interactive plot of the forecast using Dygraphs can be made with the command dyplot.prophet(m, forecast).\n",
    "\n",
    "More details about the options available for each method are available in the docstrings, for example, via ?prophet or ?fit.prophet. This documentation is also available in the reference manual on CRAN."
   ]
  }
 ],
 "metadata": {
  "kernelspec": {
   "display_name": "timeseries",
   "language": "python",
   "name": "timeseries"
  },
  "language_info": {
   "codemirror_mode": {
    "name": "ipython",
    "version": 3
   },
   "file_extension": ".py",
   "mimetype": "text/x-python",
   "name": "python",
   "nbconvert_exporter": "python",
   "pygments_lexer": "ipython3",
   "version": "3.9.13"
  }
 },
 "nbformat": 4,
 "nbformat_minor": 5
}
